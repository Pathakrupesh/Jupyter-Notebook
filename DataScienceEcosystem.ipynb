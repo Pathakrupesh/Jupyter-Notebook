{
 "cells": [
  {
   "cell_type": "markdown",
   "id": "be35a70f-eee4-48ed-9159-cf7d4fca6073",
   "metadata": {},
   "source": [
    "# Data Science Tools and Ecosystem"
   ]
  },
  {
   "cell_type": "markdown",
   "id": "c9bd5c2b-bcbc-4dfe-8f4d-31b88e06113f",
   "metadata": {},
   "source": [
    "In this notebook, Data Science Tools and Ecosystem are summarized."
   ]
  },
  {
   "cell_type": "markdown",
   "id": "2ccd081a-e5f5-4e1a-bf86-48b9b11a45f5",
   "metadata": {},
   "source": [
    "**Objectives:**\n",
    "- List popular data science languages\n",
    "- List commonly used libraries by data scientists\n",
    "- List arithmetic operations used in python\n",
    "- convert minutes to hours in python"
   ]
  },
  {
   "cell_type": "markdown",
   "id": "d9a3328f-ef15-4428-a4cf-75d4ddf9b474",
   "metadata": {},
   "source": [
    "Some of the popular languages that Data Scientists use are:\n",
    "1. Python\n",
    "2. R\n",
    "3. SQL\n",
    "4. Scala\n"
   ]
  },
  {
   "cell_type": "markdown",
   "id": "fa64ba8e-afa6-4c87-a4cb-7411d2a5c8a4",
   "metadata": {},
   "source": [
    "Some of the commonly used libraries used by Data Scientists include:\n",
    "1. Pandas\n",
    "2. Numpy\n",
    "3. Matplotlib\n",
    "4. Seaborn"
   ]
  },
  {
   "cell_type": "markdown",
   "id": "2e887354-2a4f-4e42-8083-800e38b9b628",
   "metadata": {},
   "source": [
    "|Data Science Tools|\n",
    "|------------------|\n",
    "|Jupyter Notebook|\n",
    "|R Studio|\n",
    "|Hadoop|"
   ]
  },
  {
   "cell_type": "markdown",
   "id": "49996bc4-de85-4be7-80af-9530a50cbf59",
   "metadata": {},
   "source": [
    "### Below are a few examples of evaluating arithmetic expressions in Python\n",
    "1. Addition(+)\n",
    "2. Subtraction(-)\n",
    "3. Multiplication(*)\n",
    "4. Division(/)\n"
   ]
  },
  {
   "cell_type": "code",
   "execution_count": 3,
   "id": "a6a29a79-28fe-4a69-beb1-494559c56ab4",
   "metadata": {},
   "outputs": [
    {
     "data": {
      "text/plain": [
       "17"
      ]
     },
     "execution_count": 3,
     "metadata": {},
     "output_type": "execute_result"
    }
   ],
   "source": [
    "#this is a simple arithmetic expression to multiply then add integers.\n",
    "(3*4)+5"
   ]
  },
  {
   "cell_type": "code",
   "execution_count": 2,
   "id": "1c0b38e6-b00b-4cce-91d2-b262ea575236",
   "metadata": {},
   "outputs": [
    {
     "name": "stdout",
     "output_type": "stream",
     "text": [
      "200 minutes is equivalent to 3.3333333333333335 hours\n"
     ]
    }
   ],
   "source": [
    "#This will convert 200 minutes to hours by dividing by 60\n",
    "hrs=200/60\n",
    "print(f\"200 minutes is equivalent to {hrs} hours\")"
   ]
  },
  {
   "cell_type": "markdown",
   "id": "3c44da60-0ac8-4bec-8670-4899bd52599e",
   "metadata": {},
   "source": [
    "## Author\n",
    "Rupesh Pathak"
   ]
  },
  {
   "cell_type": "code",
   "execution_count": null,
   "id": "f1b6bb46-2e13-47d3-a7aa-0b0354d4960d",
   "metadata": {},
   "outputs": [],
   "source": []
  }
 ],
 "metadata": {
  "kernelspec": {
   "display_name": "Python 3 (ipykernel)",
   "language": "python",
   "name": "python3"
  },
  "language_info": {
   "codemirror_mode": {
    "name": "ipython",
    "version": 3
   },
   "file_extension": ".py",
   "mimetype": "text/x-python",
   "name": "python",
   "nbconvert_exporter": "python",
   "pygments_lexer": "ipython3",
   "version": "3.13.5"
  }
 },
 "nbformat": 4,
 "nbformat_minor": 5
}
